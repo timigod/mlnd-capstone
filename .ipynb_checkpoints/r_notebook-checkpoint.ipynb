{
 "cells": [
  {
   "cell_type": "markdown",
   "metadata": {
    "_cell_guid": "3a0235ce-2650-4e47-8bd1-ce23d825ff84",
    "_execution_state": "idle",
    "_uuid": "7965d7ec69ea21a6e8b8382c05a3c4722f4df83f"
   },
   "source": [
    "**Loading Data and Libraries**"
   ]
  },
  {
   "cell_type": "code",
   "execution_count": 8,
   "metadata": {
    "_cell_guid": "90fb51e0-a63f-420d-9bc5-20c82a535549",
    "_execution_state": "idle",
    "_uuid": "87bd2dc2c907fac740553ba9ab4043d7f7d31eae",
    "collapsed": true
   },
   "outputs": [],
   "source": [
    "df <- read.csv(\"./data/bs140513_032310.csv\")\n",
    "\n",
    "library(ggplot2) # Data visualization\n",
    "library(readr) # CSV file I/O, e.g. the read_csv function\n",
    "library(dplyr)\n",
    "library(DT)\n",
    "library(ggthemes)\n",
    "library(randomForest)\n",
    "library(InformationValue)"
   ]
  },
  {
   "cell_type": "markdown",
   "metadata": {
    "_cell_guid": "63b70bc6-8f94-4e41-b619-7cbb4a4a8aac",
    "_execution_state": "idle",
    "_uuid": "8ef6211d4e0b7cca8bc607af03c5623ae47949e5"
   },
   "source": [
    "Then we need to factorize our parameters to make it easier for our ML models to learn."
   ]
  },
  {
   "cell_type": "code",
   "execution_count": 9,
   "metadata": {
    "_cell_guid": "7172f723-2c78-42e7-a08d-0a3bfe4e48c1",
    "_execution_state": "idle",
    "_uuid": "1646c83e6a7ffbec87965da2b4827895567769c8",
    "collapsed": true
   },
   "outputs": [],
   "source": [
    "df$step = factor(df$step)\n",
    "df$customer = factor(df$customer)\n",
    "df$age = factor(df$age)\n",
    "df$gender = factor(df$gender)\n",
    "df$zipcodeOri = factor(df$zipcodeOri)\n",
    "df$merchant = factor(df$merchant)\n",
    "df$zipMerchant = factor(df$zipMerchant)\n",
    "df$category = factor(df$category)\n",
    "df$fraud = factor(df$fraud)"
   ]
  },
  {
   "cell_type": "markdown",
   "metadata": {
    "_cell_guid": "7d0036dc-0c26-4717-8a4c-26476bbb5493",
    "_execution_state": "idle",
    "_uuid": "f987d34f23bfb245fb49527476f21a99e14cc36c"
   },
   "source": [
    "Now let's look at our data in more details."
   ]
  },
  {
   "cell_type": "code",
   "execution_count": 10,
   "metadata": {
    "_cell_guid": "a569e793-dfd6-4064-bc77-6bf5099a8a4f",
    "_execution_state": "idle",
    "_uuid": "e9dc4fee941748a35bd88a5316677f6ad1529ecc"
   },
   "outputs": [
    {
     "data": {
      "text/plain": [
       "      step                 customer           age         gender      \n",
       " 175    :  3774   'C1978250683':   265   '2'    :187310   'E':  1178  \n",
       " 177    :  3758   'C1275518867':   252   '3'    :147131   'F':324565  \n",
       " 152    :  3746   'C806399525' :   237   '4'    :109025   'M':268385  \n",
       " 174    :  3743   'C515668508' :   205   '5'    : 62642   'U':   515  \n",
       " 178    :  3743   'C1338396147':   195   '1'    : 58131               \n",
       " 173    :  3739   'C1896850232':   192   '6'    : 26774               \n",
       " (Other):572140   (Other)      :593297   (Other):  3630               \n",
       "   zipcodeOri              merchant       zipMerchant    \n",
       " '28007':594643   'M1823072687':299693   '28007':594643  \n",
       "                  'M348934600' :205426                   \n",
       "                  'M85975013'  : 26254                   \n",
       "                  'M1053599405':  6821                   \n",
       "                  'M151143676' :  6373                   \n",
       "                  'M855959430' :  6098                   \n",
       "                  (Other)      : 43978                   \n",
       "                    category          amount        fraud     \n",
       " 'es_transportation'    :505119   Min.   :   0.00   0:587443  \n",
       " 'es_food'              : 26254   1st Qu.:  13.74   1:  7200  \n",
       " 'es_health'            : 16133   Median :  26.90             \n",
       " 'es_wellnessandbeauty' : 15086   Mean   :  37.89             \n",
       " 'es_fashion'           :  6454   3rd Qu.:  42.54             \n",
       " 'es_barsandrestaurants':  6373   Max.   :8329.96             \n",
       " (Other)                : 19224                               "
      ]
     },
     "metadata": {},
     "output_type": "display_data"
    }
   ],
   "source": [
    "summary(df)"
   ]
  },
  {
   "cell_type": "markdown",
   "metadata": {
    "_cell_guid": "5faaa152-d57c-49e0-9149-6ccd9260cd59",
    "_execution_state": "idle",
    "_uuid": "207c891891d758aa2d0aad579e80176f8365a4bd"
   },
   "source": [
    "As we can see there is a huge difference between the amount of fraud in our dataset, let's see how they are distributed."
   ]
  },
  {
   "cell_type": "code",
   "execution_count": null,
   "metadata": {
    "_cell_guid": "965601eb-6c94-46f6-8bbe-7a884e01cc49",
    "_execution_state": "idle",
    "_uuid": "19db4a3d7e9e842b0937e73b7686c92e8d78d4b1",
    "collapsed": true
   },
   "outputs": [],
   "source": [
    "frauddd1 <- df %>%\n",
    "  group_by(df$amount) %>%\n",
    "  dplyr::summarize(Total = n())\n",
    "\n",
    "\n",
    "ggplot(frauddd1, aes(frauddd1$`df$amount`, Total,fill = I(\"#fec106\"))) + \n",
    "  geom_bar( stat = \"identity\",colour=\"#FF9999\") + xlab(\"Amount\")+ylab(\"Total\")+theme(axis.text.x = element_text(angle = 90, hjust = 1))"
   ]
  },
  {
   "cell_type": "markdown",
   "metadata": {
    "_cell_guid": "9dacb547-7983-4d21-b69b-bab979cba2c3",
    "_execution_state": "idle",
    "_uuid": "2b6f657687eddf7bb567177d9e14f7b737b06b9e"
   },
   "source": [
    "Let's see our data with plots!"
   ]
  },
  {
   "cell_type": "code",
   "execution_count": 1,
   "metadata": {
    "_cell_guid": "e3ddfe0a-16ad-4eb9-8ad8-8dc6ea1d9761",
    "_execution_state": "idle",
    "_uuid": "b226d3be7386da8358cf45336e78935baafae7e2",
    "collapsed": true
   },
   "outputs": [],
   "source": [
    "frauddd1 <- df %>%\n",
    "  group_by(df$amount) %>%\n",
    "  dplyr::summarize(Total = n())\n",
    "\n",
    "\n",
    "frauddd2 <- df %>%\n",
    "  group_by(df$age) %>%\n",
    "  dplyr::summarize(Total = n())\n",
    "\n",
    "\n",
    "frauddd3 <- df %>%\n",
    "  group_by(df$gender) %>%\n",
    "  dplyr::summarize(Total = n())\n",
    "\n",
    "frauddd4 <- df %>%\n",
    "  group_by(df$category) %>%\n",
    "  dplyr::summarize(Total = n())\n",
    "\n",
    "frauddd5 <- df %>%\n",
    "  group_by(df$step) %>%\n",
    "  dplyr::summarize(Total = n())\n",
    "\n",
    "\n",
    "\n",
    "#Visualizing \n",
    "\n",
    "ggplot(frauddd1, aes(frauddd1$`df$amount`, Total,fill = I(\"#fec106\"))) + \n",
    "  geom_bar( stat = \"identity\",colour=\"#FF9999\") + xlab(\"Amount\")+ylab(\"Total\")+theme(axis.text.x = element_text(angle = 90, hjust = 1))\n",
    "\n",
    "\n",
    "ggplot(frauddd2, aes(frauddd2$`df$age`, Total,fill=I(\"#4699dd\"))) + \n",
    "  geom_bar( stat = \"identity\",colour=\"#FF9999\") + xlab(\"Age\")+ylab(\"Total\")\n",
    "\n",
    "ggplot(frauddd3, aes(frauddd3$`df$gender`, Total,fill = I(\"#56ddc5\"))) + \n",
    "  geom_bar( stat = \"identity\",colour=\"#FF9999\") + xlab(\"Gender\")+ylab(\"Total\")\n",
    "\n",
    "ggplot(frauddd4, aes(frauddd4$`df$category`, Total,fill = I(\"#f89685\"))) + \n",
    "  geom_bar( stat = \"identity\") + xlab(\"Category\")+ylab(\"Total\") +theme(axis.text.x = element_text(angle = 45, hjust = 1))\n",
    "\n",
    "ggplot(frauddd5, aes(frauddd5$`df$step`, Total,fill = I(\"#4699dd\"))) + \n",
    "  geom_bar( stat = \"identity\" ) + xlab(\"Step\")+ylab(\"Total\")+theme(axis.text.x = element_text(angle = 90, hjust = 1))"
   ]
  },
  {
   "cell_type": "markdown",
   "metadata": {
    "_cell_guid": "ba5e9108-3d28-4410-bb5b-380e8ce67912",
    "_execution_state": "idle",
    "_uuid": "c8b0476b2261cfe29ce014f8e44ad2ac37184bf8"
   },
   "source": [
    "Cool, now we are ready to build a model for our data."
   ]
  },
  {
   "cell_type": "markdown",
   "metadata": {
    "_cell_guid": "b492883f-7df7-4ced-92c2-881bb3a8866c",
    "_execution_state": "idle",
    "_uuid": "7e7f1b0173d34c91a69db0d278dd8822f387d3fa"
   },
   "source": [
    "**Building ML Model**"
   ]
  },
  {
   "cell_type": "markdown",
   "metadata": {
    "_cell_guid": "e8b467ba-17bd-46b7-bb9c-4447e1a49649",
    "_execution_state": "idle",
    "_uuid": "96dbeac1eca117ad8c8dbcef6d6cbe5b0130b708"
   },
   "source": [
    "By looking at our data we can see some of them are constant like zipMerchant and also zipCode so we can ignore them, Customer has so many factors which mean it can make our model slow, so we take the age, amount, merchant, category and gender to make our model."
   ]
  },
  {
   "cell_type": "code",
   "execution_count": 1,
   "metadata": {
    "_cell_guid": "b4ace5b9-68e7-4aae-b2b2-4fab3f453c08",
    "_execution_state": "idle",
    "_uuid": "f683ed163c0898d01ce3961c0d7a92eb41fb34b5",
    "collapsed": true
   },
   "outputs": [],
   "source": [
    "dff = df[,c(\"merchant\",\"category\",\"gender\",\"age\",\"amount\",\"fraud\")]\n",
    "\n",
    "train_sample = sample(nrow(dff), size = nrow(dff)*0.66)\n",
    "train_data = dff[train_sample,]\n",
    "test_data = dff[-train_sample,]\n",
    "\n",
    "\n",
    "rf = randomForest(y=train_data$fraud, x = train_data[, -ncol(train_data)],\n",
    "                  ytest = test_data$fraud, xtest = test_data[, -ncol(test_data)],\n",
    "                  ntree = 200,classwt = c(0.7, 0.3),keep.forest = T)\n",
    "varImpPlot(rf,type=2)\n",
    "rf"
   ]
  },
  {
   "cell_type": "markdown",
   "metadata": {
    "_cell_guid": "1ea0c4ed-93cd-47b2-a66b-24423fd92ebe",
    "_execution_state": "idle",
    "_uuid": "7e560957773b7a6871cc1fbb92414138d0e61a14"
   },
   "source": [
    "Age and gender are not important in making our model as we can see, so let's look each of amount, category and merchant partial dependency."
   ]
  },
  {
   "cell_type": "code",
   "execution_count": 1,
   "metadata": {
    "_cell_guid": "18da147e-d55d-444a-8860-b4383d2037fe",
    "_execution_state": "idle",
    "_uuid": "1d1951c34de8dc8fba6702fe59b3c228a932f91e",
    "collapsed": true
   },
   "outputs": [],
   "source": [
    "partialPlot(rf, train_data,merchant , 1,las=2)\n",
    "partialPlot(rf, train_data,category , 1,las=2)\n",
    "partialPlot(rf, train_data,amount , 1)"
   ]
  },
  {
   "cell_type": "markdown",
   "metadata": {
    "_cell_guid": "45161865-dd78-4e6b-b53e-d28a4c07512f",
    "_execution_state": "idle",
    "_uuid": "94b233b882ee35a4dda4635dd227b7a786206266"
   },
   "source": [
    "Seems interesting, most of the frauds happened in a range between 0 and 500 as we can see in our above plots, but now we can see the dependency of our amount in predicting the fraud, the higher we go in our amount there is a higher chance that's going to be flagged as fraud. However, most of the cases in our data are the ones that haven't been flagged. So we are going to set a cutoff of 800 for our model so basically, we are trying to feed our model both side of our data."
   ]
  },
  {
   "cell_type": "code",
   "execution_count": 1,
   "metadata": {
    "_cell_guid": "fa7cbd32-04b4-4065-9b34-0025036d1611",
    "_execution_state": "idle",
    "_uuid": "00d97e7fca82fddb7adb50ca49cf6a7f247b34ff",
    "collapsed": true
   },
   "outputs": [],
   "source": [
    "df = df[df$amount<800,]\n",
    "df$amount <- cut(df$amount,breaks=50,dig.lab=2,labels=1:50)"
   ]
  },
  {
   "cell_type": "markdown",
   "metadata": {
    "_cell_guid": "fbdf2c86-55df-4210-85e3-356343202ec5",
    "_execution_state": "idle",
    "_uuid": "473d68db4537fa1a1024754932292c97fc4c26f8"
   },
   "source": [
    "Merchant, category and amount are the most important features in our dataset for predicting frauds. Now we take those parameters and make our new model because our RandomForrest didn't do well and it might because our data is too sharp and unbalanced, so we are going to use logistic regression which is more likely to be useful in our case."
   ]
  },
  {
   "cell_type": "code",
   "execution_count": 1,
   "metadata": {
    "_cell_guid": "d75b1caa-58c5-4fb2-9b1a-6747c5b34b20",
    "_execution_state": "idle",
    "_uuid": "adc7dfd4dd12b866d61a12b2241f92c57b379686",
    "collapsed": true
   },
   "outputs": [],
   "source": [
    "dff = df[,c(\"merchant\",\"category\",\"amount\",\"fraud\")]\n",
    "\n",
    "train_sample = sample(nrow(dff), size = nrow(dff)*0.66)\n",
    "train_data = dff[train_sample,]\n",
    "test_data = dff[-train_sample,]\n",
    "\n",
    "logitMod <- glm(fraud~ merchant+category+amount, data=train_data, family=binomial(link=\"logit\"))\n",
    "predicted <- predict(logitMod, test_data, type=\"response\")\n",
    "plotROC(test_data$fraud, predicted)"
   ]
  },
  {
   "cell_type": "markdown",
   "metadata": {
    "_cell_guid": "8618830d-a0e3-4f3d-b532-9d258845b2f6",
    "_execution_state": "idle",
    "_uuid": "af19374d76278b6600fded6d708522c7f069237a"
   },
   "source": [
    "Getting a ROC score around .99 is pretty good, so now we are going to test sensitivity and specificity to see some other aspects of our model."
   ]
  },
  {
   "cell_type": "code",
   "execution_count": null,
   "metadata": {
    "_cell_guid": "7609424a-85e7-42a9-9d82-056b17cfff87",
    "_execution_state": "idle",
    "_uuid": "bfa6403906f490ee5b9c4b4b85e8954af23f6936",
    "collapsed": true
   },
   "outputs": [],
   "source": [
    "optCutOff <- optimalCutoff(test_data$fraud, predicted)[1]\n",
    "\n",
    "misClassError(test_data$fraud, predicted, threshold = optCutOff)\n",
    "sensitivity(test_data$fraud, predicted, threshold = optCutOff)\n",
    "specificity(test_data$fraud, predicted, threshold = optCutOff)"
   ]
  },
  {
   "cell_type": "markdown",
   "metadata": {
    "_cell_guid": "e0a8b03c-84df-4ab5-b847-75d567f5ec45",
    "_execution_state": "idle",
    "_uuid": "24a47400411fa7e7ff2f713c7d22d53d78c2c8f1"
   },
   "source": [
    "We got around .99 for false detection and .70 for positive detection which are pretty good numbers for our model. Thanks for your time :)"
   ]
  }
 ],
 "metadata": {
  "kernelspec": {
   "display_name": "R",
   "language": "R",
   "name": "ir"
  },
  "language_info": {
   "codemirror_mode": "r",
   "file_extension": ".r",
   "mimetype": "text/x-r-source",
   "name": "R",
   "pygments_lexer": "r",
   "version": "3.4.1"
  }
 },
 "nbformat": 4,
 "nbformat_minor": 1
}
